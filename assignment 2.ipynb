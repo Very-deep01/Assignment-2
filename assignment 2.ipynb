{
 "cells": [
  {
   "cell_type": "code",
   "execution_count": 1,
   "metadata": {},
   "outputs": [
    {
     "name": "stdout",
     "output_type": "stream",
     "text": [
      "35\n"
     ]
    }
   ],
   "source": [
    "#1(a)\n",
    "a=\"Python is a case sensitive language\"\n",
    "print(len(a))\n"
   ]
  },
  {
   "cell_type": "code",
   "execution_count": 1,
   "metadata": {},
   "outputs": [
    {
     "name": "stdout",
     "output_type": "stream",
     "text": [
      "egaugnal evitisnes esac a si nohtyP\n"
     ]
    }
   ],
   "source": [
    "#1(b)\n",
    "a=\"Python is a case sensitive language\"[::-1]\n",
    "print(a)"
   ]
  },
  {
   "cell_type": "code",
   "execution_count": 4,
   "metadata": {},
   "outputs": [
    {
     "name": "stdout",
     "output_type": "stream",
     "text": [
      "a case sensitive \n"
     ]
    }
   ],
   "source": [
    "#1(c)\n",
    "a=\"Python is a case sensitive language\"\n",
    "x=slice(10,27)\n",
    "print(a[x])\n"
   ]
  },
  {
   "cell_type": "code",
   "execution_count": 6,
   "metadata": {},
   "outputs": [
    {
     "name": "stdout",
     "output_type": "stream",
     "text": [
      "Python is object oriented language\n"
     ]
    }
   ],
   "source": [
    "#1(d)\n",
    "a=\"Python is a case sensitive language\"\n",
    "x=a.replace(\"a case sensitive\",\"object oriented\")\n",
    "print(x)\n",
    "\n"
   ]
  },
  {
   "cell_type": "code",
   "execution_count": 7,
   "metadata": {},
   "outputs": [
    {
     "name": "stdout",
     "output_type": "stream",
     "text": [
      "index of a: 10\n"
     ]
    }
   ],
   "source": [
    "#1(e)\n",
    "a=\"Python is a case sensitive language\"\n",
    "x=a.index(\"a\")\n",
    "print(\"index of a:\",x)"
   ]
  },
  {
   "cell_type": "code",
   "execution_count": 10,
   "metadata": {},
   "outputs": [
    {
     "name": "stdout",
     "output_type": "stream",
     "text": [
      "Pythonisacasesensitivelanguage\n"
     ]
    }
   ],
   "source": [
    "#1(f)\n",
    "a=\"Python is a case sensitive language\"\n",
    "def remove(string):\n",
    "    return string.replace(\" \", \"\")\n",
    "print(remove(a))"
   ]
  },
  {
   "cell_type": "code",
   "execution_count": 26,
   "metadata": {},
   "outputs": [
    {
     "name": "stdout",
     "output_type": "stream",
     "text": [
      "Hey Anshdeep Singh Here!,My SID is 22105078,I am from Electronics and communication department,and my CGPA is9.9 \n"
     ]
    }
   ],
   "source": [
    "#Ques 2\n",
    "Name=\"Anshdeep Singh\"\n",
    "SID=22105078\n",
    "Department=\"Electronics and Communication\"\n",
    "CGPA=9.9\n",
    "print ('Hey {Name} Here!,My SID is {SID},I am from {department} department,and my CGPA is{CGPA} '.format(Name='Anshdeep Singh',SID='22105078',department='Electronics and communication',CGPA=9.9) )\n"
   ]
  },
  {
   "cell_type": "code",
   "execution_count": 27,
   "metadata": {},
   "outputs": [
    {
     "name": "stdout",
     "output_type": "stream",
     "text": [
      "8\n"
     ]
    }
   ],
   "source": [
    "#Ques 3\n",
    "a=56\n",
    "b=10\n",
    "#3(a)\n",
    "print(a&b)\n"
   ]
  },
  {
   "cell_type": "code",
   "execution_count": 28,
   "metadata": {},
   "outputs": [
    {
     "name": "stdout",
     "output_type": "stream",
     "text": [
      "58\n"
     ]
    }
   ],
   "source": [
    "#3(b)\n",
    "a=56\n",
    "b=10\n",
    "print(a|b)"
   ]
  },
  {
   "cell_type": "code",
   "execution_count": 29,
   "metadata": {},
   "outputs": [
    {
     "name": "stdout",
     "output_type": "stream",
     "text": [
      "50\n"
     ]
    }
   ],
   "source": [
    "#3(c)\n",
    "a=56\n",
    "b=10\n",
    "print(a^b)\n"
   ]
  },
  {
   "cell_type": "code",
   "execution_count": 30,
   "metadata": {},
   "outputs": [
    {
     "name": "stdout",
     "output_type": "stream",
     "text": [
      "224\n"
     ]
    }
   ],
   "source": [
    "#3(d)\n",
    "a=56\n",
    "b=10\n",
    "print(a<<2)"
   ]
  },
  {
   "cell_type": "code",
   "execution_count": 1,
   "metadata": {},
   "outputs": [
    {
     "name": "stdout",
     "output_type": "stream",
     "text": [
      "14\n"
     ]
    }
   ],
   "source": [
    "#3(e)\n",
    "a=56\n",
    "b=10\n",
    "print(a>>2)\n"
   ]
  },
  {
   "cell_type": "code",
   "execution_count": 43,
   "metadata": {},
   "outputs": [
    {
     "name": "stdout",
     "output_type": "stream",
     "text": [
      "The largest number is 15\n"
     ]
    }
   ],
   "source": [
    "a=int(input(\"Enter 1st No.=\"))\n",
    "b=int(input(\"Enter 2nd No.=\"))\n",
    "c=int(input(\"Enter 3rd No.\"))\n",
    "\n",
    "\n",
    "\n",
    "if (a >=b) and (a >= c):\n",
    "   largest =a\n",
    "elif (b>= c) and (b >= a):\n",
    "   largest = b\n",
    "else:\n",
    "   largest = c\n",
    "\n",
    "print(\"The largest number is\", largest)\n"
   ]
  },
  {
   "cell_type": "code",
   "execution_count": 56,
   "metadata": {
    "tags": []
   },
   "outputs": [
    {
     "name": "stdout",
     "output_type": "stream",
     "text": [
      "Yes\n"
     ]
    }
   ],
   "source": [
    "#que5\n",
    "a=input(\"Enter a string:\")\n",
    "if \"name\"  in a :\n",
    "    print(\"Yes\")\n",
    "else :\n",
    "    print(\"No\")"
   ]
  },
  {
   "cell_type": "code",
   "execution_count": 57,
   "metadata": {},
   "outputs": [
    {
     "name": "stdout",
     "output_type": "stream",
     "text": [
      "Yes , it is possible to make a triangle using 10,12,18 as the sides of a triangle.\n"
     ]
    }
   ],
   "source": [
    "#que6\n",
    "a = int(input(\"Enter 1st number: \"))\n",
    "b = int(input(\"Enter 2nd number: \"))\n",
    "c = int(input(\"Enter 3rd number: \"))\n",
    "\n",
    "if a+b>c and a+c>b and b+c>a:\n",
    "    print(f\"Yes , it is possible to make a triangle using {a},{b},{c} as the sides of a triangle.\")\n",
    "else:\n",
    "    print(f\"No, triangle cannot be formed using {a},{b},{c} as the sides\")\n"
   ]
  }
 ],
 "metadata": {
  "kernelspec": {
   "display_name": "Python 3",
   "language": "python",
   "name": "python3"
  },
  "language_info": {
   "codemirror_mode": {
    "name": "ipython",
    "version": 3
   },
   "file_extension": ".py",
   "mimetype": "text/x-python",
   "name": "python",
   "nbconvert_exporter": "python",
   "pygments_lexer": "ipython3",
   "version": "3.10.9 (tags/v3.10.9:1dd9be6, Dec  6 2022, 20:01:21) [MSC v.1934 64 bit (AMD64)]"
  },
  "orig_nbformat": 4,
  "vscode": {
   "interpreter": {
    "hash": "7536d7b229462f4296d4c0dae49c3bd6cd3990c783d6b9d88ce3c31a78605890"
   }
  }
 },
 "nbformat": 4,
 "nbformat_minor": 2
}
